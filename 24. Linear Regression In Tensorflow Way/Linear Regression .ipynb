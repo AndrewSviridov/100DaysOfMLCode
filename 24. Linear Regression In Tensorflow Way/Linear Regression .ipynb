{
 "cells": [
  {
   "cell_type": "code",
   "execution_count": 1,
   "metadata": {},
   "outputs": [],
   "source": [
    "import tensorflow as tf\n",
    "import numpy\n",
    "import matplotlib.pyplot as plt\n",
    "rng = numpy.random"
   ]
  },
  {
   "cell_type": "code",
   "execution_count": 2,
   "metadata": {},
   "outputs": [],
   "source": [
    "# Parameters\n",
    "learning_rate = 0.01\n",
    "training_epochs = 1000\n",
    "display_step = 50"
   ]
  },
  {
   "cell_type": "code",
   "execution_count": 3,
   "metadata": {},
   "outputs": [],
   "source": [
    "# Training Data\n",
    "train_X = numpy.asarray([3.3,4.4,5.5,6.71,6.93,4.168,9.779,6.182,7.59,2.167,\n",
    "                         7.042,10.791,5.313,7.997,5.654,9.27,3.1])\n",
    "train_Y = numpy.asarray([1.7,2.76,2.09,3.19,1.694,1.573,3.366,2.596,2.53,1.221,\n",
    "                         2.827,3.465,1.65,2.904,2.42,2.94,1.3])\n",
    "n_samples = train_X.shape[0]"
   ]
  },
  {
   "cell_type": "code",
   "execution_count": 4,
   "metadata": {},
   "outputs": [],
   "source": [
    "# tf Graph Input\n",
    "X = tf.placeholder(\"float\")\n",
    "Y = tf.placeholder(\"float\")\n",
    "\n",
    "# Set model weights\n",
    "W = tf.Variable(rng.randn(), name=\"weight\")\n",
    "b = tf.Variable(rng.randn(), name=\"bias\")"
   ]
  },
  {
   "cell_type": "code",
   "execution_count": 5,
   "metadata": {},
   "outputs": [],
   "source": [
    "# Construct a linear model\n",
    "pred = tf.add(tf.multiply(X, W), b)"
   ]
  },
  {
   "cell_type": "code",
   "execution_count": 6,
   "metadata": {},
   "outputs": [],
   "source": [
    "# Mean squared error\n",
    "cost = tf.reduce_sum(tf.pow(pred-Y, 2))/(2*n_samples)\n",
    "# Gradient descent\n",
    "optimizer = tf.train.GradientDescentOptimizer(learning_rate).minimize(cost)"
   ]
  },
  {
   "cell_type": "code",
   "execution_count": 7,
   "metadata": {},
   "outputs": [],
   "source": [
    "# Initialize the variables (i.e. assign their default value)\n",
    "init = tf.global_variables_initializer()"
   ]
  },
  {
   "cell_type": "code",
   "execution_count": 13,
   "metadata": {},
   "outputs": [
    {
     "name": "stdout",
     "output_type": "stream",
     "text": [
      "Epoch: 0050 cost= 0.081243619 W= 0.28624618 b= 0.53779024\n",
      "Epoch: 0100 cost= 0.080749728 W= 0.28406623 b= 0.5534727\n",
      "Epoch: 0150 cost= 0.080312982 W= 0.28201586 b= 0.56822276\n",
      "Epoch: 0200 cost= 0.079926804 W= 0.2800876 b= 0.5820959\n",
      "Epoch: 0250 cost= 0.079585396 W= 0.27827367 b= 0.5951439\n",
      "Epoch: 0300 cost= 0.079283513 W= 0.27656782 b= 0.60741603\n",
      "Epoch: 0350 cost= 0.079016671 W= 0.2749635 b= 0.6189571\n",
      "Epoch: 0400 cost= 0.078780763 W= 0.27345484 b= 0.6298106\n",
      "Epoch: 0450 cost= 0.078572206 W= 0.2720358 b= 0.6400188\n",
      "Epoch: 0500 cost= 0.078387827 W= 0.2707011 b= 0.6496198\n",
      "Epoch: 0550 cost= 0.078224845 W= 0.2694459 b= 0.65865004\n",
      "Epoch: 0600 cost= 0.078080758 W= 0.2682653 b= 0.6671439\n",
      "Epoch: 0650 cost= 0.077953406 W= 0.26715487 b= 0.6751319\n",
      "Epoch: 0700 cost= 0.077840872 W= 0.26611045 b= 0.6826449\n",
      "Epoch: 0750 cost= 0.077741370 W= 0.2651282 b= 0.68971163\n",
      "Epoch: 0800 cost= 0.077653453 W= 0.2642043 b= 0.6963578\n",
      "Epoch: 0850 cost= 0.077575743 W= 0.26333538 b= 0.70260936\n",
      "Epoch: 0900 cost= 0.077507079 W= 0.26251805 b= 0.7084889\n",
      "Epoch: 0950 cost= 0.077446409 W= 0.26174936 b= 0.71401924\n",
      "Epoch: 1000 cost= 0.077392794 W= 0.26102626 b= 0.7192206\n",
      "Optimization Finished!\n",
      "Training cost= 0.077392794 W= 0.26102626 b= 0.7192206 \n",
      "\n"
     ]
    },
    {
     "data": {
      "image/png": "[encoded data removed]",
      "text/plain": [
       "<matplotlib.figure.Figure at 0x21bf5eeb710>"
      ]
     },
     "metadata": {},
     "output_type": "display_data"
    }
   ],
   "source": [
    "# Start training\n",
    "with tf.Session() as sess:\n",
    "    sess.run(init)\n",
    "\n",
    "    # Fit all training data\n",
    "    for epoch in range(training_epochs):\n",
    "        for (x, y) in zip(train_X, train_Y):\n",
    "            sess.run(optimizer, feed_dict={X: x, Y: y})\n",
    "\n",
    "        #Display logs per epoch step\n",
    "        if (epoch+1) % display_step == 0:\n",
    "            c = sess.run(cost, feed_dict={X: train_X, Y:train_Y})\n",
    "            print(\"Epoch:\", '%04d' % (epoch+1), \"cost=\", \"{:.9f}\".format(c), \\\n",
    "                \"W=\", sess.run(W), \"b=\", sess.run(b))\n",
    "\n",
    "    print(\"Optimization Finished!\")\n",
    "    training_cost = sess.run(cost, feed_dict={X: train_X, Y: train_Y})\n",
    "    print(\"Training cost=\", training_cost, \"W=\", sess.run(W), \"b=\", sess.run(b), '\\n')\n",
    "\n",
    "    #Graphic display\n",
    "    plt.plot(train_X, train_Y, 'ro', label='Original data')\n",
    "    plt.plot(train_X, sess.run(W) * train_X + sess.run(b), label='Fitted line')\n",
    "    plt.legend()\n",
    "    plt.show()"
   ]
  },
  {
   "cell_type": "code",
   "execution_count": null,
   "metadata": {},
   "outputs": [],
   "source": []
  }
 ],
 "metadata": {
  "kernelspec": {
   "display_name": "Python 3",
   "language": "python",
   "name": "python3"
  },
  "language_info": {
   "codemirror_mode": {
    "name": "ipython",
    "version": 3
   },
   "file_extension": ".py",
   "mimetype": "text/x-python",
   "name": "python",
   "nbconvert_exporter": "python",
   "pygments_lexer": "ipython3",
   "version": "3.6.4"
  }
 },
 "nbformat": 4,
 "nbformat_minor": 2
}
