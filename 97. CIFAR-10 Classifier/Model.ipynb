{
 "cells": [
  {
   "cell_type": "markdown",
   "metadata": {},
   "source": [
    "# SVM\n",
    "## Training an SVM classifier on top of the extracted CNN Nodes \n",
    "### created in CNN_codes.py"
   ]
  },
  {
   "cell_type": "code",
   "execution_count": 2,
   "metadata": {},
   "outputs": [
    {
     "name": "stderr",
     "output_type": "stream",
     "text": [
      "/Library/Frameworks/Python.framework/Versions/3.6/lib/python3.6/site-packages/h5py/__init__.py:36: FutureWarning: Conversion of the second argument of issubdtype from `float` to `np.floating` is deprecated. In future, it will be treated as `np.float64 == np.dtype(float).type`.\n",
      "  from ._conv import register_converters as _register_converters\n",
      "/Library/Frameworks/Python.framework/Versions/3.6/lib/python3.6/site-packages/sklearn/cross_validation.py:41: DeprecationWarning: This module was deprecated in version 0.18 in favor of the model_selection module into which all the refactored classes and functions are moved. Also note that the interface of the new CV iterators are different from that of this module. This module will be removed in 0.20.\n",
      "  \"This module will be removed in 0.20.\", DeprecationWarning)\n",
      "/Library/Frameworks/Python.framework/Versions/3.6/lib/python3.6/site-packages/sklearn/grid_search.py:42: DeprecationWarning: This module was deprecated in version 0.18 in favor of the model_selection module into which all the refactored classes and functions are moved. This module will be removed in 0.20.\n",
      "  DeprecationWarning)\n"
     ]
    }
   ],
   "source": [
    "# generic\n",
    "import numpy as np\n",
    "import os\n",
    "import matplotlib.pyplot as plt\n",
    "import h5py\n",
    "import itertools\n",
    "import matplotlib\n",
    "#matplotlib.style.use('ggplot')\n",
    "\n",
    "# sklearn\n",
    "from sklearn import cross_validation, grid_search\n",
    "from sklearn.metrics import confusion_matrix, classification_report,accuracy_score\n",
    "from sklearn.svm import SVC, LinearSVC\n",
    "from sklearn.model_selection import GridSearchCV\n",
    "\n",
    "# files in repository\n",
    "from plot_cm import plot_confusion_matrix\n",
    "from features import color_histogram_hsv, hog_feature,extract_features,rgb2gray"
   ]
  },
  {
   "cell_type": "markdown",
   "metadata": {},
   "source": [
    "importing necessary data "
   ]
  },
  {
   "cell_type": "code",
   "execution_count": 3,
   "metadata": {},
   "outputs": [],
   "source": [
    "train = h5py.File('datasets/datatraining.h5','r')\n",
    "test = h5py.File('datasets/datatest.h5','r')\n",
    "h5f = h5py.File('datasets/extracted_tsne.h5','r')\n",
    "h5fa = h5py.File('datasets/extracted_tsne_test.h5','r')\n",
    "\n",
    "y_train = train['labels'][:]\n",
    "y_test = test['labels'][:]\n",
    "X_train = h5f['extracted_data'][:]\n",
    "X_test = h5fa['extracted_data'][:]"
   ]
  },
  {
   "cell_type": "code",
   "execution_count": 4,
   "metadata": {},
   "outputs": [],
   "source": [
    "classes = ['airplane','automobile','bird','cat','deer','dog','frog','horse','ship','truck']"
   ]
  },
  {
   "cell_type": "markdown",
   "metadata": {},
   "source": [
    "# Now I will train three SVM classifiers:\n",
    "* SGD\n",
    "* Linear SVC\n",
    "* SVC (and with bagging)"
   ]
  },
  {
   "cell_type": "markdown",
   "metadata": {},
   "source": [
    "## SGD"
   ]
  },
  {
   "cell_type": "code",
   "execution_count": 4,
   "metadata": {},
   "outputs": [],
   "source": [
    "from sklearn.linear_model import SGDClassifier"
   ]
  },
  {
   "cell_type": "code",
   "execution_count": 5,
   "metadata": {},
   "outputs": [
    {
     "name": "stderr",
     "output_type": "stream",
     "text": [
      "/Library/Frameworks/Python.framework/Versions/3.6/lib/python3.6/site-packages/sklearn/linear_model/stochastic_gradient.py:117: DeprecationWarning: n_iter parameter is deprecated in 0.19 and will be removed in 0.21. Use max_iter and tol instead.\n",
      "  DeprecationWarning)\n"
     ]
    },
    {
     "data": {
      "text/plain": [
       "SGDClassifier(alpha=0.0001, average=False, class_weight=None, epsilon=0.1,\n",
       "       eta0=3, fit_intercept=True, l1_ratio=0.15,\n",
       "       learning_rate='invscaling', loss='hinge', max_iter=None, n_iter=112,\n",
       "       n_jobs=-1, penalty='l2', power_t=0.5, random_state=None,\n",
       "       shuffle=True, tol=None, verbose=0, warm_start=False)"
      ]
     },
     "execution_count": 5,
     "metadata": {},
     "output_type": "execute_result"
    }
   ],
   "source": [
    "clf = SGDClassifier(loss=\"hinge\",\n",
    "                    penalty=\"l2\",\n",
    "                    n_jobs=-1,\n",
    "                    learning_rate='invscaling',\n",
    "                    eta0 = 3,\n",
    "                    n_iter = 112)\n",
    "clf.fit(X_train, y_train)"
   ]
  },
  {
   "cell_type": "code",
   "execution_count": 6,
   "metadata": {},
   "outputs": [
    {
     "name": "stdout",
     "output_type": "stream",
     "text": [
      "\n",
      "Classification report:\n",
      "             precision    recall  f1-score   support\n",
      "\n",
      "          0       0.79      0.74      0.76       100\n",
      "          1       0.91      0.90      0.90       100\n",
      "          2       0.63      0.64      0.64       100\n",
      "          3       0.62      0.61      0.61       100\n",
      "          4       0.68      0.70      0.69       100\n",
      "          5       0.70      0.76      0.73       100\n",
      "          6       0.80      0.81      0.81       100\n",
      "          7       0.84      0.77      0.80       100\n",
      "          8       0.83      0.85      0.84       100\n",
      "          9       0.88      0.88      0.88       100\n",
      "\n",
      "avg / total       0.77      0.77      0.77      1000\n",
      "\n",
      "The accuracy is 76.6%\n"
     ]
    }
   ],
   "source": [
    "y_predict=clf.predict(X_test)\n",
    "print(\"\\nClassification report:\")\n",
    "print(classification_report(y_test, y_predict))\n",
    "print(\"The accuracy is {:.1f}%\".format(accuracy_score(y_test, y_predict, normalize=True)*100))"
   ]
  },
  {
   "cell_type": "markdown",
   "metadata": {},
   "source": [
    "## LinearSVC"
   ]
  },
  {
   "cell_type": "code",
   "execution_count": 7,
   "metadata": {},
   "outputs": [
    {
     "data": {
      "text/plain": [
       "LinearSVC(C=10, class_weight=None, dual=True, fit_intercept=True,\n",
       "     intercept_scaling=1, loss='squared_hinge', max_iter=1000,\n",
       "     multi_class='ovr', penalty='l2', random_state=0, tol=0.0001,\n",
       "     verbose=0)"
      ]
     },
     "execution_count": 7,
     "metadata": {},
     "output_type": "execute_result"
    }
   ],
   "source": [
    "clf = LinearSVC(random_state=0,C=10)\n",
    "clf.fit(X_train, y_train)"
   ]
  },
  {
   "cell_type": "code",
   "execution_count": 8,
   "metadata": {},
   "outputs": [
    {
     "name": "stdout",
     "output_type": "stream",
     "text": [
      "\n",
      "Classification report:\n",
      "             precision    recall  f1-score   support\n",
      "\n",
      "          0       0.82      0.80      0.81       100\n",
      "          1       0.92      0.87      0.89       100\n",
      "          2       0.66      0.60      0.63       100\n",
      "          3       0.64      0.65      0.65       100\n",
      "          4       0.70      0.72      0.71       100\n",
      "          5       0.71      0.75      0.73       100\n",
      "          6       0.81      0.86      0.83       100\n",
      "          7       0.80      0.77      0.79       100\n",
      "          8       0.86      0.86      0.86       100\n",
      "          9       0.84      0.88      0.86       100\n",
      "\n",
      "avg / total       0.78      0.78      0.78      1000\n",
      "\n",
      "The accuracy is 77.6%\n"
     ]
    }
   ],
   "source": [
    "y_predict=clf.predict(X_test)\n",
    "print(\"\\nClassification report:\")\n",
    "print(classification_report(y_test, y_predict))\n",
    "print(\"The accuracy is {:.1f}%\".format(accuracy_score(y_test, y_predict, normalize=True)*100))"
   ]
  },
  {
   "cell_type": "markdown",
   "metadata": {},
   "source": [
    "The results are okay, but nothing spectecular. Let's try something diffrent"
   ]
  },
  {
   "cell_type": "markdown",
   "metadata": {},
   "source": [
    "## SVC (kernel trick) \n",
    "- Using 3-fold cross validation and radial basis function (RBF) kernel to find the optimal hyper-parameters of the SVM\n",
    "- As seen in the 2D CNN codes, the data is nither sparse nor visually linearly seperable in the current dimensional space. Hence, I have emplyed the kernel trick to see whether it is linearly separable in a higher dimensional space.   "
   ]
  },
  {
   "cell_type": "code",
   "execution_count": 9,
   "metadata": {},
   "outputs": [],
   "source": [
    "param = [{\"kernel\": [\"rbf\"],\n",
    "         \"C\": [1, 10, 50, 100],\n",
    "         \"gamma\":[1e-3, 1e-4, 1e-5]}]\n",
    " \n",
    "svm = SVC(decision_function_shape='ovr')"
   ]
  },
  {
   "cell_type": "code",
   "execution_count": 10,
   "metadata": {},
   "outputs": [
    {
     "name": "stdout",
     "output_type": "stream",
     "text": [
      "Fitting 3 folds for each of 12 candidates, totalling 36 fits\n",
      "[CV] C=1, gamma=0.001, kernel=rbf ....................................\n",
      "[CV] C=1, gamma=0.001, kernel=rbf ....................................\n",
      "[CV] C=1, gamma=0.001, kernel=rbf ....................................\n",
      "[CV] C=1, gamma=0.0001, kernel=rbf ...................................\n",
      "[CV] .......... C=1, gamma=0.0001, kernel=rbf, score=0.761677 - 1.1min\n",
      "[CV] C=1, gamma=0.0001, kernel=rbf ...................................\n",
      "[CV] .......... C=1, gamma=0.0001, kernel=rbf, score=0.775449 - 1.1min\n",
      "[CV] C=1, gamma=0.0001, kernel=rbf ...................................\n",
      "[CV] ........... C=1, gamma=0.001, kernel=rbf, score=0.705389 - 2.5min\n",
      "[CV] ........... C=1, gamma=0.001, kernel=rbf, score=0.692814 - 2.5min\n",
      "[CV] C=1, gamma=1e-05, kernel=rbf ....................................\n",
      "[CV] C=1, gamma=1e-05, kernel=rbf ....................................\n",
      "[CV] ........... C=1, gamma=0.001, kernel=rbf, score=0.700602 - 2.5min\n",
      "[CV] C=1, gamma=1e-05, kernel=rbf ....................................\n",
      "[CV] .......... C=1, gamma=0.0001, kernel=rbf, score=0.766265 - 1.1min\n",
      "[CV] C=10, gamma=0.001, kernel=rbf ...................................\n",
      "[CV] ........... C=1, gamma=1e-05, kernel=rbf, score=0.708383 - 1.5min\n",
      "[CV] C=10, gamma=0.001, kernel=rbf ...................................\n",
      "[CV] ........... C=1, gamma=1e-05, kernel=rbf, score=0.727545 - 1.6min\n",
      "[CV] C=10, gamma=0.001, kernel=rbf ...................................\n",
      "[CV] ........... C=1, gamma=1e-05, kernel=rbf, score=0.707831 - 1.6min\n",
      "[CV] C=10, gamma=0.0001, kernel=rbf ..................................\n",
      "[CV] ......... C=10, gamma=0.0001, kernel=rbf, score=0.764671 -  55.0s\n",
      "[CV] C=10, gamma=0.0001, kernel=rbf ..................................\n",
      "[CV] .......... C=10, gamma=0.001, kernel=rbf, score=0.700599 - 2.3min\n",
      "[CV] C=10, gamma=0.0001, kernel=rbf ..................................\n",
      "[CV] ......... C=10, gamma=0.0001, kernel=rbf, score=0.782036 -  56.7s\n",
      "[CV] C=10, gamma=1e-05, kernel=rbf ...................................\n",
      "[CV] .......... C=10, gamma=0.001, kernel=rbf, score=0.711377 - 2.3min\n",
      "[CV] C=10, gamma=1e-05, kernel=rbf ...................................\n",
      "[CV] .......... C=10, gamma=0.001, kernel=rbf, score=0.706627 - 2.3min\n",
      "[CV] C=10, gamma=1e-05, kernel=rbf ...................................\n",
      "[CV] ......... C=10, gamma=0.0001, kernel=rbf, score=0.786145 -  58.1s\n",
      "[CV] C=50, gamma=0.001, kernel=rbf ...................................\n",
      "[CV] .......... C=10, gamma=1e-05, kernel=rbf, score=0.758084 -  57.7s\n",
      "[CV] C=50, gamma=0.001, kernel=rbf ...................................\n",
      "[CV] .......... C=10, gamma=1e-05, kernel=rbf, score=0.783234 -  59.4s\n",
      "[CV] C=50, gamma=0.001, kernel=rbf ...................................\n",
      "[CV] .......... C=10, gamma=1e-05, kernel=rbf, score=0.764458 -  58.3s\n",
      "[CV] C=50, gamma=0.0001, kernel=rbf ..................................\n",
      "[CV] ......... C=50, gamma=0.0001, kernel=rbf, score=0.766467 -  55.3s\n",
      "[CV] C=50, gamma=0.0001, kernel=rbf ..................................\n",
      "[CV] .......... C=50, gamma=0.001, kernel=rbf, score=0.700599 - 2.3min\n",
      "[CV] C=50, gamma=0.0001, kernel=rbf ..................................\n",
      "[CV] .......... C=50, gamma=0.001, kernel=rbf, score=0.711377 - 2.3min\n",
      "[CV] C=50, gamma=1e-05, kernel=rbf ...................................\n",
      "[CV] ......... C=50, gamma=0.0001, kernel=rbf, score=0.777844 -  58.9s\n",
      "[CV] C=50, gamma=1e-05, kernel=rbf ...................................\n",
      "[CV] .......... C=50, gamma=0.001, kernel=rbf, score=0.706627 - 2.3min\n",
      "[CV] C=50, gamma=1e-05, kernel=rbf ...................................\n",
      "[CV] ......... C=50, gamma=0.0001, kernel=rbf, score=0.782530 -  59.3s\n",
      "[CV] C=100, gamma=0.001, kernel=rbf ..................................\n"
     ]
    },
    {
     "name": "stderr",
     "output_type": "stream",
     "text": [
      "[Parallel(n_jobs=-1)]: Done  24 tasks      | elapsed:  9.9min\n"
     ]
    },
    {
     "name": "stdout",
     "output_type": "stream",
     "text": [
      "[CV] .......... C=50, gamma=1e-05, kernel=rbf, score=0.766467 -  48.5s\n",
      "[CV] C=100, gamma=0.001, kernel=rbf ..................................\n",
      "[CV] .......... C=50, gamma=1e-05, kernel=rbf, score=0.781437 -  49.8s\n",
      "[CV] C=100, gamma=0.001, kernel=rbf ..................................\n",
      "[CV] .......... C=50, gamma=1e-05, kernel=rbf, score=0.781325 -  49.2s\n",
      "[CV] C=100, gamma=0.0001, kernel=rbf .................................\n",
      "[CV] ........ C=100, gamma=0.0001, kernel=rbf, score=0.766467 -  55.5s\n",
      "[CV] C=100, gamma=0.0001, kernel=rbf .................................\n",
      "[CV] ......... C=100, gamma=0.001, kernel=rbf, score=0.700599 - 2.3min\n",
      "[CV] C=100, gamma=0.0001, kernel=rbf .................................\n",
      "[CV] ......... C=100, gamma=0.001, kernel=rbf, score=0.711377 - 2.3min\n",
      "[CV] C=100, gamma=1e-05, kernel=rbf ..................................\n",
      "[CV] ........ C=100, gamma=0.0001, kernel=rbf, score=0.777844 - 1.0min\n",
      "[CV] C=100, gamma=1e-05, kernel=rbf ..................................\n",
      "[CV] ......... C=100, gamma=0.001, kernel=rbf, score=0.706627 - 2.3min\n",
      "[CV] C=100, gamma=1e-05, kernel=rbf ..................................\n",
      "[CV] ......... C=100, gamma=1e-05, kernel=rbf, score=0.759880 -  47.5s\n",
      "[CV] ........ C=100, gamma=0.0001, kernel=rbf, score=0.782530 -  57.4s\n",
      "[CV] ......... C=100, gamma=1e-05, kernel=rbf, score=0.768263 -  48.1s\n",
      "[CV] ......... C=100, gamma=1e-05, kernel=rbf, score=0.783735 -  47.8s\n"
     ]
    },
    {
     "name": "stderr",
     "output_type": "stream",
     "text": [
      "[Parallel(n_jobs=-1)]: Done  36 out of  36 | elapsed: 13.2min finished\n"
     ]
    },
    {
     "data": {
      "text/plain": [
       "GridSearchCV(cv=3, error_score='raise',\n",
       "       estimator=SVC(C=1.0, cache_size=200, class_weight=None, coef0=0.0,\n",
       "  decision_function_shape='ovr', degree=3, gamma='auto', kernel='rbf',\n",
       "  max_iter=-1, probability=False, random_state=None, shrinking=True,\n",
       "  tol=0.001, verbose=False),\n",
       "       fit_params={}, iid=True, n_jobs=-1,\n",
       "       param_grid=[{'kernel': ['rbf'], 'C': [1, 10, 50, 100], 'gamma': [0.001, 0.0001, 1e-05]}],\n",
       "       pre_dispatch='2*n_jobs', refit=True, scoring='accuracy', verbose=3)"
      ]
     },
     "execution_count": 10,
     "metadata": {},
     "output_type": "execute_result"
    }
   ],
   "source": [
    "clf = grid_search.GridSearchCV(svm, param,\n",
    "                               cv=3, n_jobs=-1, verbose=3, scoring='accuracy')\n",
    "clf.fit(X_train, y_train)"
   ]
  },
  {
   "cell_type": "code",
   "execution_count": 11,
   "metadata": {},
   "outputs": [
    {
     "name": "stdout",
     "output_type": "stream",
     "text": [
      "\n",
      "Best parameters set:\n",
      "{'C': 10, 'gamma': 0.0001, 'kernel': 'rbf'}\n"
     ]
    }
   ],
   "source": [
    "print(\"\\nBest parameters set:\")\n",
    "print(clf.best_params_)"
   ]
  },
  {
   "cell_type": "code",
   "execution_count": 12,
   "metadata": {},
   "outputs": [
    {
     "name": "stdout",
     "output_type": "stream",
     "text": [
      "\n",
      "Classification report:\n",
      "             precision    recall  f1-score   support\n",
      "\n",
      "          0       0.81      0.87      0.84       100\n",
      "          1       0.87      0.87      0.87       100\n",
      "          2       0.71      0.63      0.67       100\n",
      "          3       0.66      0.65      0.66       100\n",
      "          4       0.69      0.76      0.72       100\n",
      "          5       0.74      0.74      0.74       100\n",
      "          6       0.83      0.89      0.86       100\n",
      "          7       0.81      0.73      0.77       100\n",
      "          8       0.88      0.84      0.86       100\n",
      "          9       0.87      0.90      0.89       100\n",
      "\n",
      "avg / total       0.79      0.79      0.79      1000\n",
      "\n",
      "The accuracy is 78.8%\n"
     ]
    }
   ],
   "source": [
    "y_predict=clf.predict(X_test)\n",
    "print(\"\\nClassification report:\")\n",
    "print(classification_report(y_test, y_predict))\n",
    "print(\"The accuracy is {:.1f}%\".format(accuracy_score(y_test, y_predict, normalize=True)*100))"
   ]
  },
  {
   "cell_type": "markdown",
   "metadata": {},
   "source": [
    "## Bagging \n",
    "In order to reduce the variance of an estimate we average together multiple estimates\n",
    "    - Using the best parameters from SVC cross validation"
   ]
  },
  {
   "cell_type": "code",
   "execution_count": 10,
   "metadata": {},
   "outputs": [],
   "source": [
    "from sklearn.ensemble import BaggingClassifier"
   ]
  },
  {
   "cell_type": "code",
   "execution_count": 11,
   "metadata": {},
   "outputs": [],
   "source": [
    "svm = BaggingClassifier(SVC(decision_function_shape='ovr',\n",
    "                            C=10, gamma = 0.0001, kernel ='rbf'))"
   ]
  },
  {
   "cell_type": "code",
   "execution_count": 12,
   "metadata": {},
   "outputs": [
    {
     "data": {
      "text/plain": [
       "BaggingClassifier(base_estimator=SVC(C=10, cache_size=200, class_weight=None, coef0=0.0,\n",
       "  decision_function_shape='ovr', degree=3, gamma=0.0001, kernel='rbf',\n",
       "  max_iter=-1, probability=False, random_state=None, shrinking=True,\n",
       "  tol=0.001, verbose=False),\n",
       "         bootstrap=True, bootstrap_features=False, max_features=1.0,\n",
       "         max_samples=1.0, n_estimators=10, n_jobs=1, oob_score=False,\n",
       "         random_state=None, verbose=0, warm_start=False)"
      ]
     },
     "execution_count": 12,
     "metadata": {},
     "output_type": "execute_result"
    }
   ],
   "source": [
    "svm.fit(X_train, y_train)"
   ]
  },
  {
   "cell_type": "code",
   "execution_count": 13,
   "metadata": {},
   "outputs": [],
   "source": [
    "y_predict=svm.predict(X_test)"
   ]
  },
  {
   "cell_type": "code",
   "execution_count": 14,
   "metadata": {},
   "outputs": [
    {
     "name": "stdout",
     "output_type": "stream",
     "text": [
      "\n",
      "Classification report:\n",
      "             precision    recall  f1-score   support\n",
      "\n",
      "          0       0.80      0.90      0.85       100\n",
      "          1       0.85      0.87      0.86       100\n",
      "          2       0.72      0.63      0.67       100\n",
      "          3       0.67      0.67      0.67       100\n",
      "          4       0.71      0.74      0.73       100\n",
      "          5       0.73      0.74      0.74       100\n",
      "          6       0.83      0.90      0.87       100\n",
      "          7       0.84      0.72      0.77       100\n",
      "          8       0.90      0.86      0.88       100\n",
      "          9       0.89      0.92      0.91       100\n",
      "\n",
      "avg / total       0.79      0.80      0.79      1000\n",
      "\n",
      "The accuracy is 79.5%\n"
     ]
    }
   ],
   "source": [
    "print(\"\\nClassification report:\")\n",
    "print(classification_report(y_test, y_predict))\n",
    "print(\"The accuracy is {:.1f}%\".format(accuracy_score(y_test, y_predict, normalize=True)*100))"
   ]
  },
  {
   "cell_type": "code",
   "execution_count": 15,
   "metadata": {},
   "outputs": [
    {
     "name": "stdout",
     "output_type": "stream",
     "text": [
      "Confusion matrix, without normalization\n",
      "[[90  3  1  0  0  1  1  1  3  0]\n",
      " [ 1 87  0  1  0  0  0  0  2  9]\n",
      " [ 5  1 63  6  7  2 12  2  2  0]\n",
      " [ 5  1  6 67  5 12  1  3  0  0]\n",
      " [ 2  0  7  5 74  3  3  5  0  1]\n",
      " [ 2  2  4 13  3 74  0  2  0  0]\n",
      " [ 0  0  5  2  2  1 90  0  0  0]\n",
      " [ 1  0  1  6 12  7  0 72  1  0]\n",
      " [ 7  2  0  0  1  1  1  1 86  1]\n",
      " [ 0  6  0  0  0  0  0  0  2 92]]\n"
     ]
    },
    {
     "data": {
      "image/png": "[encoded data removed]",
      "text/plain": [
       "<Figure size 576x576 with 2 Axes>"
      ]
     },
     "metadata": {},
     "output_type": "display_data"
    }
   ],
   "source": [
    "# Computing confusion matrix\n",
    "cnf_matrix = confusion_matrix(y_test, y_predict, labels=[int(i) for i in range(len(classes))])\n",
    "np.set_printoptions(precision=2)\n",
    "\n",
    "# Plotting non-normalized confusion matrix\n",
    "plt.figure(figsize=(8,8))\n",
    "plot_confusion_matrix(cnf_matrix, classes,\n",
    "                      title='Confusion matrix, without normalization')\n",
    "plt.savefig(\"presentation_images/cnn_svm.png\")"
   ]
  },
  {
   "cell_type": "markdown",
   "metadata": {},
   "source": [
    "## An improvement in base accuracy by 0.7% using bagging"
   ]
  }
 ],
 "metadata": {
  "kernelspec": {
   "display_name": "Python 3",
   "language": "python",
   "name": "python3"
  },
  "language_info": {
   "codemirror_mode": {
    "name": "ipython",
    "version": 3
   },
   "file_extension": ".py",
   "mimetype": "text/x-python",
   "name": "python",
   "nbconvert_exporter": "python",
   "pygments_lexer": "ipython3",
   "version": "3.6.4"
  }
 },
 "nbformat": 4,
 "nbformat_minor": 2
}
