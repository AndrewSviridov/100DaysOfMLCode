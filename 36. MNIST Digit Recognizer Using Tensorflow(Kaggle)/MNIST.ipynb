{
  "cells": [
    {
      "metadata": {
        "_uuid": "8f2839f25d086af736a60e9eeb907d3b93b6e0e5",
        "_cell_guid": "b1076dfc-b9ad-4769-8c92-a6c4dae69d19",
        "trusted": true
      },
      "cell_type": "code",
      "source": "# This Python 3 environment comes with many helpful analytics libraries installed\n# It is defined by the kaggle/python docker image: https://github.com/kaggle/docker-python\n# For example, here's several helpful packages to load in \n\nimport numpy as np # linear algebra\nimport pandas as pd # data processing, CSV file I/O (e.g. pd.read_csv)\n\n# Input data files are available in the \"../input/\" directory.\n# For example, running this (by clicking run or pressing Shift+Enter) will list the files in the input directory\n\nimport os\nprint(os.listdir(\"../input\"))\n\n# Any results you write to the current directory are saved as output.",
      "execution_count": 3,
      "outputs": [
        {
          "output_type": "stream",
          "text": "['train.csv', 'sample_submission.csv', 'test.csv']\n",
          "name": "stdout"
        }
      ]
    },
    {
      "metadata": {
        "_cell_guid": "79c7e3d0-c299-4dcb-8224-4455121ee9b0",
        "_uuid": "d629ff2d2480ee46fbb7e2d37f6b5fab8052498a",
        "trusted": true
      },
      "cell_type": "code",
      "source": "%matplotlib inline\nimport numpy as np\nfrom numpy import array\nimport pandas as pd\nimport tensorflow as tf\nimport matplotlib.pyplot as plt\nfrom sklearn.model_selection import ShuffleSplit\nfrom sklearn.preprocessing import StandardScaler, LabelEncoder, OneHotEncoder",
      "execution_count": 1,
      "outputs": [
        {
          "output_type": "stream",
          "text": "/opt/conda/lib/python3.6/site-packages/h5py/__init__.py:36: FutureWarning: Conversion of the second argument of issubdtype from `float` to `np.floating` is deprecated. In future, it will be treated as `np.float64 == np.dtype(float).type`.\n  from ._conv import register_converters as _register_converters\n",
          "name": "stderr"
        }
      ]
    },
    {
      "metadata": {
        "trusted": true,
        "collapsed": true,
        "_uuid": "3c9f035bbea7cdaccfc731555f3ca9da96d356b1"
      },
      "cell_type": "code",
      "source": "LABELS = 10 # Number of different types of labels (1-10)\nWIDTH = 28 # width / height of the image\nCHANNELS = 1 # Number of colors in the image (greyscale)\n\nVALID = 1000 # Validation data size\n\nSTEPS = 8000# Number of steps to run\nBATCH = 32 # Stochastic Gradient Descent batch size\nPATCH = 5 # Convolutional Kernel size\nDEPTH = 32 #32 # Convolutional Kernel depth size == Number of Convolutional Kernels\nHIDDEN = 1024 #1024 # Number of hidden neurons in the fully connected layer\n\nLR = 0.0013 # Learning rate",
      "execution_count": 2,
      "outputs": []
    },
    {
      "metadata": {
        "trusted": true,
        "_uuid": "1f36aceda105f165ade63ef6eefc48d239512223"
      },
      "cell_type": "code",
      "source": "data = pd.read_csv('../input/train.csv') # Read csv file in pandas dataframe\nlabels = np.array(data.pop('label')) # Remove the labels as a numpy array from the dataframe\nlabels = LabelEncoder().fit_transform(labels)[:, None]\nlabels = OneHotEncoder().fit_transform(labels).todense()\ndata = StandardScaler().fit_transform(np.float32(data.values)) # Convert the dataframe to a numpy array\ndata = data.reshape(-1, WIDTH, WIDTH, CHANNELS) # Reshape the data into 42000 2d images\ntrain_data, valid_data = data[:-VALID], data[-VALID:]\ntrain_labels, valid_labels = labels[:-VALID], labels[-VALID:]\n\nprint('train data shape = ' + str(train_data.shape) + ' = (TRAIN, WIDTH, WIDTH, CHANNELS)')\nprint('labels shape = ' + str(labels.shape) + ' = (TRAIN, LABELS)')",
      "execution_count": 4,
      "outputs": [
        {
          "output_type": "stream",
          "text": "train data shape = (41000, 28, 28, 1) = (TRAIN, WIDTH, WIDTH, CHANNELS)\nlabels shape = (42000, 10) = (TRAIN, LABELS)\n",
          "name": "stdout"
        }
      ]
    },
    {
      "metadata": {
        "trusted": true,
        "collapsed": true,
        "_uuid": "41b4921dd077b8397cff0ff25f0cedb744f45ba4"
      },
      "cell_type": "code",
      "source": "#model\ntf_data = tf.placeholder(tf.float32, shape=(None, WIDTH, WIDTH, CHANNELS))\ntf_labels = tf.placeholder(tf.float32, shape=(None, LABELS))",
      "execution_count": 5,
      "outputs": []
    },
    {
      "metadata": {
        "trusted": true,
        "collapsed": true,
        "_uuid": "91d83170fe6791ec44c686761eeff1500e5c8741"
      },
      "cell_type": "code",
      "source": "w1 = tf.Variable(tf.truncated_normal([PATCH, PATCH, CHANNELS, DEPTH], stddev=0.1))\nb1 = tf.Variable(tf.zeros([DEPTH]))\nw2 = tf.Variable(tf.truncated_normal([PATCH, PATCH, DEPTH, 2*DEPTH], stddev=0.1))\nb2 = tf.Variable(tf.constant(1.0, shape=[2*DEPTH]))\nw3 = tf.Variable(tf.truncated_normal([WIDTH // 4 * WIDTH // 4 * 2*DEPTH, HIDDEN], stddev=0.1))\nb3 = tf.Variable(tf.constant(1.0, shape=[HIDDEN]))\nw4 = tf.Variable(tf.truncated_normal([HIDDEN, LABELS], stddev=0.1))\nb4 = tf.Variable(tf.constant(1.0, shape=[LABELS]))\n\ndef logits(data):\n    # Convolutional layer 1\n    x = tf.nn.conv2d(data, w1, [1, 1, 1, 1], padding='SAME')\n    x = tf.nn.max_pool(x, [1, 2, 2, 1], [1, 2, 2, 1], padding='SAME')\n    x = tf.nn.relu(x + b1)\n    # Convolutional layer 2\n    x = tf.nn.conv2d(x, w2, [1, 1, 1, 1], padding='SAME')\n    x = tf.nn.max_pool(x, [1, 2, 2, 1], [1, 2, 2, 1], padding='SAME')\n    x = tf.nn.relu(x + b2)\n    # Fully connected layer\n    x = tf.reshape(x, (-1, WIDTH // 4 * WIDTH // 4 * 2*DEPTH))\n    x = tf.nn.relu(tf.matmul(x, w3) + b3)\n    return tf.matmul(x, w4) + b4\n\n# Prediction:\ntf_pred = tf.nn.softmax(logits(tf_data))",
      "execution_count": 6,
      "outputs": []
    },
    {
      "metadata": {
        "trusted": true,
        "_uuid": "048cd8838cbbd700c5531ab297bf9d635772b045"
      },
      "cell_type": "code",
      "source": "tf_loss = tf.reduce_mean(tf.nn.softmax_cross_entropy_with_logits(logits=logits(tf_data), \n                                                                 labels=tf_labels))\ntf_acc = 100*tf.reduce_mean(tf.to_float(tf.equal(tf.argmax(tf_pred, 1), tf.argmax(tf_labels, 1))))\n\n#tf_opt = tf.train.GradientDescentOptimizer(LR)\n#tf_opt = tf.train.AdamOptimizer(LR)\ntf_opt = tf.train.RMSPropOptimizer(LR)\ntf_step = tf_opt.minimize(tf_loss)",
      "execution_count": 7,
      "outputs": [
        {
          "output_type": "stream",
          "text": "WARNING:tensorflow:From <ipython-input-7-1cf330b94892>:2: softmax_cross_entropy_with_logits (from tensorflow.python.ops.nn_ops) is deprecated and will be removed in a future version.\nInstructions for updating:\n\nFuture major versions of TensorFlow will allow gradients to flow\ninto the labels input on backprop by default.\n\nSee tf.nn.softmax_cross_entropy_with_logits_v2.\n\n",
          "name": "stdout"
        }
      ]
    },
    {
      "metadata": {
        "trusted": true,
        "collapsed": true,
        "_uuid": "598189d169464920b3604a587bac613335e6308b"
      },
      "cell_type": "code",
      "source": "#training\ninit = tf.global_variables_initializer()\nsession = tf.Session()\nsession.run(init)",
      "execution_count": 8,
      "outputs": []
    },
    {
      "metadata": {
        "trusted": true,
        "_uuid": "52a4fc2b7d5cb0619ef9c5bffeac6c8fda08ffed"
      },
      "cell_type": "code",
      "source": "train_data[4].shape",
      "execution_count": 9,
      "outputs": [
        {
          "output_type": "execute_result",
          "execution_count": 9,
          "data": {
            "text/plain": "(28, 28, 1)"
          },
          "metadata": {}
        }
      ]
    },
    {
      "metadata": {
        "trusted": true,
        "_uuid": "a7c427e1d2115db715844e108eab18e5b1bedfe0"
      },
      "cell_type": "code",
      "source": "ss = ShuffleSplit(n_splits=STEPS, train_size=BATCH)\nss.get_n_splits(train_data, train_labels)\nhistory = [(0, np.nan, 10)] # Initial Error Measures\nfor step, (idx, _) in enumerate(ss.split(train_data,train_labels), start=1):\n    fd = {tf_data:train_data[idx], tf_labels:train_labels[idx]}\n    session.run(tf_step, feed_dict=fd)\n    if step%500 == 0:\n        fd = {tf_data:valid_data, tf_labels:valid_labels}\n        valid_loss, valid_accuracy = session.run([tf_loss, tf_acc], feed_dict=fd)\n        history.append((step, valid_loss, valid_accuracy))\n        print('Step %i \\t Valid. Acc. = %f \\n'%(step, valid_accuracy))",
      "execution_count": 10,
      "outputs": [
        {
          "output_type": "stream",
          "text": "/opt/conda/lib/python3.6/site-packages/sklearn/model_selection/_split.py:1639: FutureWarning: From version 0.21, test_size will always complement train_size unless both are specified.\n  FutureWarning)\n",
          "name": "stderr"
        },
        {
          "output_type": "stream",
          "text": "Step 500 \t Valid. Acc. = 94.099998 \n\nStep 1000 \t Valid. Acc. = 96.000000 \n\nStep 1500 \t Valid. Acc. = 97.599998 \n\nStep 2000 \t Valid. Acc. = 96.900002 \n\nStep 2500 \t Valid. Acc. = 97.899994 \n\nStep 3000 \t Valid. Acc. = 97.799995 \n\nStep 3500 \t Valid. Acc. = 97.500000 \n\nStep 4000 \t Valid. Acc. = 98.000000 \n\nStep 4500 \t Valid. Acc. = 98.000000 \n\nStep 5000 \t Valid. Acc. = 97.799995 \n\nStep 5500 \t Valid. Acc. = 97.799995 \n\nStep 6000 \t Valid. Acc. = 98.299995 \n\nStep 6500 \t Valid. Acc. = 98.699997 \n\nStep 7000 \t Valid. Acc. = 98.400002 \n\nStep 7500 \t Valid. Acc. = 98.000000 \n\nStep 8000 \t Valid. Acc. = 98.299995 \n\n",
          "name": "stdout"
        }
      ]
    },
    {
      "metadata": {
        "trusted": true,
        "_uuid": "e0dc151c0a8dd6fc677563a6e6258e00a3abdf8e"
      },
      "cell_type": "code",
      "source": "#Visualize the training history:\nsteps, loss, acc = zip(*history)\n\nfig = plt.figure()\nplt.title('Validation Loss / Accuracy')\nax_loss = fig.add_subplot(111)\nax_acc = ax_loss.twinx()\nplt.xlabel('Training Steps')\nplt.xlim(0, max(steps))\n\nax_loss.plot(steps, loss, '-o', color='C0')\nax_loss.set_ylabel('Log Loss', color='C0');\nax_loss.tick_params('y', colors='C0')\nax_loss.set_ylim(0.01, 0.5)\n\nax_acc.plot(steps, acc, '-o', color='C1')\nax_acc.set_ylabel('Accuracy [%]', color='C1');\nax_acc.tick_params('y', colors='C1')\nax_acc.set_ylim(1,100)\n\nplt.show()",
      "execution_count": 11,
      "outputs": [
        {
          "output_type": "stream",
          "text": "/opt/conda/lib/python3.6/site-packages/matplotlib/cbook/deprecation.py:106: MatplotlibDeprecationWarning: Adding an axes using the same arguments as a previous axes currently reuses the earlier instance.  In a future version, a new instance will always be created and returned.  Meanwhile, this warning can be suppressed, and the future behavior ensured, by passing a unique label to each axes instance.\n  warnings.warn(message, mplDeprecation, stacklevel=1)\n",
          "name": "stderr"
        },
        {
          "output_type": "display_data",
          "data": {
            "text/plain": "<matplotlib.figure.Figure at 0x7ff8c321ca90>",
            "image/png": "[encoded data removed]"
          },
          "metadata": {}
        }
      ]
    },
    {
      "metadata": {
        "trusted": true,
        "_uuid": "c1d519dc041c3ecf966130d3fc3096c8e7bc0cd8"
      },
      "cell_type": "code",
      "source": "#Results\n\ntest = pd.read_csv('../input/test.csv') # Read csv file in pandas dataframe\ntest.info()\ntest_data = StandardScaler().fit_transform(np.float32(test.values)) # Convert the dataframe to a numpy array\ntest_data = test_data.reshape(-1, WIDTH, WIDTH, CHANNELS) # Reshape the data into 42000 2d images",
      "execution_count": 13,
      "outputs": [
        {
          "output_type": "stream",
          "text": "<class 'pandas.core.frame.DataFrame'>\nRangeIndex: 28000 entries, 0 to 27999\nColumns: 784 entries, pixel0 to pixel783\ndtypes: int64(784)\nmemory usage: 167.5 MB\n",
          "name": "stdout"
        }
      ]
    },
    {
      "metadata": {
        "trusted": true,
        "_uuid": "5f96ac2fea51d9d02a587c29d19aacd6c177b1e3"
      },
      "cell_type": "code",
      "source": "print(test_data.shape)\ntest_labels = []",
      "execution_count": 14,
      "outputs": [
        {
          "output_type": "stream",
          "text": "(28000, 28, 28, 1)\n",
          "name": "stdout"
        }
      ]
    },
    {
      "metadata": {
        "trusted": true,
        "_uuid": "d18bfee6f00cec65ff81503cdd7be41298d00c28"
      },
      "cell_type": "code",
      "source": "#Make a prediction about the test labels\nss = ShuffleSplit(n_splits=28000, train_size=BATCH)\nss.get_n_splits(test_data)\nfor (idx, _) in enumerate(ss.split(test_data), start=0):\n    temp_test_data = array(test_data[idx]).reshape(1, 28, 28, 1)\n    fd = {tf_data: temp_test_data}\n    test_pred = session.run(tf_pred, feed_dict=fd)\n    temp = np.argmax(test_pred, axis=1)\n    test_labels.append(temp)",
      "execution_count": 15,
      "outputs": [
        {
          "output_type": "stream",
          "text": "/opt/conda/lib/python3.6/site-packages/sklearn/model_selection/_split.py:1639: FutureWarning: From version 0.21, test_size will always complement train_size unless both are specified.\n  FutureWarning)\n",
          "name": "stderr"
        }
      ]
    },
    {
      "metadata": {
        "trusted": true,
        "_uuid": "9fdb249640c04f2d2453aefb009db2e095440169"
      },
      "cell_type": "code",
      "source": "print(len(test_labels))",
      "execution_count": 17,
      "outputs": [
        {
          "output_type": "stream",
          "text": "28000\n",
          "name": "stdout"
        }
      ]
    },
    {
      "metadata": {
        "trusted": true,
        "_uuid": "b212aa5152f9770ea6f0de92b69a6121daa9a0d4"
      },
      "cell_type": "code",
      "source": "#let's plot an example\nk = 43 # Try different image indices k\nprint(\"Label Prediction: %i\"%test_labels[k])\nfig = plt.figure(figsize=(2,2)); plt.axis('off')\nplt.imshow(test_data[k,:,:,0]); plt.show()",
      "execution_count": 18,
      "outputs": [
        {
          "output_type": "stream",
          "text": "Label Prediction: 9\n",
          "name": "stdout"
        },
        {
          "output_type": "display_data",
          "data": {
            "text/plain": "<matplotlib.figure.Figure at 0x7ff8bb0e0a90>",
            "image/png": "[encoded data removed]"
          },
          "metadata": {}
        }
      ]
    },
    {
      "metadata": {
        "trusted": true,
        "collapsed": true,
        "_uuid": "50b1952fde65b1e7f32d58364334268fc6c8ac1c"
      },
      "cell_type": "code",
      "source": "for i in range(len(test_labels)):\n    test_labels[i] = int(test_labels[i])",
      "execution_count": 19,
      "outputs": []
    },
    {
      "metadata": {
        "trusted": true,
        "_uuid": "d10b2ea473dc0460ab42d931e02714ddf85145cf"
      },
      "cell_type": "code",
      "source": "#submission\nsubmission = pd.DataFrame(data={'ImageId':(np.arange(len(test_labels))), 'Label':test_labels})\nsubmission.index += 1\nsubmission.to_csv('submission1.csv', index=False)\nsubmission.head()",
      "execution_count": 22,
      "outputs": [
        {
          "output_type": "execute_result",
          "execution_count": 22,
          "data": {
            "text/plain": "   ImageId  Label\n1        0      2\n2        1      0\n3        2      9\n4        3      9\n5        4      3",
            "text/html": "<div>\n<style scoped>\n    .dataframe tbody tr th:only-of-type {\n        vertical-align: middle;\n    }\n\n    .dataframe tbody tr th {\n        vertical-align: top;\n    }\n\n    .dataframe thead th {\n        text-align: right;\n    }\n</style>\n<table border=\"1\" class=\"dataframe\">\n  <thead>\n    <tr style=\"text-align: right;\">\n      <th></th>\n      <th>ImageId</th>\n      <th>Label</th>\n    </tr>\n  </thead>\n  <tbody>\n    <tr>\n      <th>1</th>\n      <td>0</td>\n      <td>2</td>\n    </tr>\n    <tr>\n      <th>2</th>\n      <td>1</td>\n      <td>0</td>\n    </tr>\n    <tr>\n      <th>3</th>\n      <td>2</td>\n      <td>9</td>\n    </tr>\n    <tr>\n      <th>4</th>\n      <td>3</td>\n      <td>9</td>\n    </tr>\n    <tr>\n      <th>5</th>\n      <td>4</td>\n      <td>3</td>\n    </tr>\n  </tbody>\n</table>\n</div>"
          },
          "metadata": {}
        }
      ]
    },
    {
      "metadata": {
        "trusted": true,
        "collapsed": true,
        "_uuid": "22562e7cdb6ff3d120c72c768bd0e5d12dc07cec"
      },
      "cell_type": "code",
      "source": "temp = pd.read_csv('submission1.csv')\ntemp['ImageId'] +=1\ntemp.head()\ntemp.to_csv('submission1.csv', index=False)",
      "execution_count": 23,
      "outputs": []
    },
    {
      "metadata": {
        "trusted": true,
        "collapsed": true,
        "_uuid": "7e0d4b864a4b6b2d714f1a0efae39368625e1968"
      },
      "cell_type": "code",
      "source": "",
      "execution_count": null,
      "outputs": []
    }
  ],
  "metadata": {
    "kernelspec": {
      "display_name": "Python 3",
      "language": "python",
      "name": "python3"
    },
    "language_info": {
      "name": "python",
      "version": "3.6.4",
      "mimetype": "text/x-python",
      "codemirror_mode": {
        "name": "ipython",
        "version": 3
      },
      "pygments_lexer": "ipython3",
      "nbconvert_exporter": "python",
      "file_extension": ".py"
    }
  },
  "nbformat": 4,
  "nbformat_minor": 1
}