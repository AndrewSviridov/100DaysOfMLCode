{
 "cells": [
  {
   "cell_type": "markdown",
   "metadata": {},
   "source": [
    "# Tensorflow Linear \n"
   ]
  },
  {
   "cell_type": "markdown",
   "metadata": {},
   "source": [
    "# Dimensionality and Broadcasting"
   ]
  },
  {
   "cell_type": "markdown",
   "metadata": {},
   "source": [
    "When we operate on arrays of different dimensionality, they can combine in different ways, either elementwise or through broadcasting.\n",
    "\n",
    "Let’s start from scratch and build up to more complex examples. "
   ]
  },
  {
   "cell_type": "code",
   "execution_count": 1,
   "metadata": {},
   "outputs": [
    {
     "name": "stdout",
     "output_type": "stream",
     "text": [
      "3\n"
     ]
    }
   ],
   "source": [
    "import tensorflow as tf\n",
    "\n",
    "a = tf.constant(3, name='a')\n",
    "\n",
    "with tf.Session() as session:\n",
    "    print(session.run(a))"
   ]
  },
  {
   "cell_type": "markdown",
   "metadata": {},
   "source": [
    "Not much of a surprise there! We can also do computations, such as adding another number to it:"
   ]
  },
  {
   "cell_type": "code",
   "execution_count": 2,
   "metadata": {},
   "outputs": [
    {
     "name": "stdout",
     "output_type": "stream",
     "text": [
      "7\n"
     ]
    }
   ],
   "source": [
    "a = tf.constant(3, name='a')\n",
    "b = tf.constant(4, name='b')\n",
    "add_op = a + b\n",
    "\n",
    "with tf.Session() as session:\n",
    "    print(session.run(add_op))"
   ]
  },
  {
   "cell_type": "markdown",
   "metadata": {},
   "source": [
    "Let’s extend this concept to a list of numbers. To start, let’s create a list of three numbers, and then another list of numbers to it:"
   ]
  },
  {
   "cell_type": "code",
   "execution_count": 3,
   "metadata": {},
   "outputs": [
    {
     "name": "stdout",
     "output_type": "stream",
     "text": [
      "[5 7 9]\n"
     ]
    }
   ],
   "source": [
    "a = tf.constant([1, 2, 3], name='a')\n",
    "b = tf.constant([4, 5, 6], name='b')\n",
    "add_op = a + b\n",
    "\n",
    "with tf.Session() as session:\n",
    "    print(session.run(add_op))"
   ]
  },
  {
   "cell_type": "markdown",
   "metadata": {},
   "source": [
    "This is known as an elementwise operation, where the elements from each list are considered in turn, added together and then the results combined.\n",
    "\n",
    "What happens if we just add a single number to this list?"
   ]
  },
  {
   "cell_type": "code",
   "execution_count": 4,
   "metadata": {},
   "outputs": [
    {
     "name": "stdout",
     "output_type": "stream",
     "text": [
      "[5 6 7]\n"
     ]
    }
   ],
   "source": [
    "a = tf.constant([1, 2, 3], name='a')\n",
    "b = tf.constant(4, name='b')\n",
    "add_op = a + b\n",
    "\n",
    "with tf.Session() as session:\n",
    "    print(session.run(add_op))"
   ]
  },
  {
   "cell_type": "markdown",
   "metadata": {},
   "source": [
    "This is known as an broadcasted operation. Our primary object of reference was a, which is a list of numbers, also called an array or a one-dimensional vector. Adding a single number (called a scalar) results in an broadcasted operation, where the scalar is added to each element of the list./\n",
    "\n",
    "Now let’s look at an extension, which is a two-dimensional array, also known as a matrix. This extra dimension can be thought of as a “list of lists”. In other words, a list is a combination of scalars, and a matrix is a list of lists.\n",
    "\n",
    "That said, how do operations on matrices work?"
   ]
  },
  {
   "cell_type": "code",
   "execution_count": 5,
   "metadata": {},
   "outputs": [
    {
     "name": "stdout",
     "output_type": "stream",
     "text": [
      "[[ 2  4  6]\n",
      " [ 8 10 12]]\n"
     ]
    }
   ],
   "source": [
    "a = tf.constant([[1, 2, 3], [4, 5, 6]], name='a')\n",
    "b = tf.constant([[1, 2, 3], [4, 5, 6]], name='b')\n",
    "add_op = a + b\n",
    "\n",
    "with tf.Session() as session:\n",
    "    print(session.run(add_op))"
   ]
  },
  {
   "cell_type": "markdown",
   "metadata": {},
   "source": [
    "That’s elementwise. If we add a scalar, the results are fairly predictable:"
   ]
  },
  {
   "cell_type": "code",
   "execution_count": 6,
   "metadata": {},
   "outputs": [
    {
     "name": "stdout",
     "output_type": "stream",
     "text": [
      "[[101 102 103]\n",
      " [104 105 106]]\n"
     ]
    }
   ],
   "source": [
    "a = tf.constant([[1, 2, 3], [4, 5, 6]], name='a')\n",
    "b = tf.constant(100, name='b')\n",
    "add_op = a + b\n",
    "\n",
    "with tf.Session() as session:\n",
    "    print(session.run(add_op))"
   ]
  },
  {
   "cell_type": "markdown",
   "metadata": {},
   "source": [
    "Here is where things start getting tricky. What happens if we add a one-dimensional array to a two-dimensional matrix?"
   ]
  },
  {
   "cell_type": "code",
   "execution_count": 7,
   "metadata": {},
   "outputs": [
    {
     "name": "stdout",
     "output_type": "stream",
     "text": [
      "[[101 103 105]\n",
      " [104 106 108]]\n"
     ]
    }
   ],
   "source": [
    "a = tf.constant([[1, 2, 3], [4, 5, 6]], name='a')\n",
    "b = tf.constant([100, 101, 102], name='b')\n",
    "add_op = a + b\n",
    "\n",
    "with tf.Session() as session:\n",
    "    print(session.run(add_op))"
   ]
  },
  {
   "cell_type": "markdown",
   "metadata": {},
   "source": [
    "In this case, the array was broadcasted to the shape of the matrix, resulting in the array being added to each row of the matrix. Using this terminology, a matrix is a list of rows.\n",
    "\n",
    "What if we didn’t want this, and instead wanted to add b across the columns of the matrix instead?"
   ]
  },
  {
   "cell_type": "code",
   "execution_count": null,
   "metadata": {},
   "outputs": [],
   "source": [
    "#it will not work if we run\n",
    "a = tf.constant([[1, 2, 3], [4, 5, 6]], name='a')\n",
    "b = tf.constant([100, 101,], name='b')\n",
    "add_op = a + b\n",
    "\n",
    "with tf.Session() as session:\n",
    "    print(session.run(add_op))"
   ]
  },
  {
   "cell_type": "markdown",
   "metadata": {},
   "source": [
    "This didn’t work, as TensorFlow attempted to broadcast across the rows. It couldn’t do this, because the number of values in b (2) was not the same as the number of scalars in each row (3).\n",
    "\n",
    "We can do this operation by creating a new matrix from our list instead."
   ]
  },
  {
   "cell_type": "code",
   "execution_count": 9,
   "metadata": {},
   "outputs": [
    {
     "name": "stdout",
     "output_type": "stream",
     "text": [
      "[[101 102 103]\n",
      " [105 106 107]]\n"
     ]
    }
   ],
   "source": [
    "a = tf.constant([[1, 2, 3], [4, 5, 6]], name='a')\n",
    "b = tf.constant([[100], [101]], name='b')\n",
    "add_op = a + b\n",
    "\n",
    "with tf.Session() as session:\n",
    "    print(session.run(add_op))"
   ]
  },
  {
   "cell_type": "markdown",
   "metadata": {},
   "source": [
    "What happened here? To understand this, let’s look at matrix shapes."
   ]
  },
  {
   "cell_type": "code",
   "execution_count": 10,
   "metadata": {},
   "outputs": [
    {
     "data": {
      "text/plain": [
       "TensorShape([Dimension(2), Dimension(3)])"
      ]
     },
     "execution_count": 10,
     "metadata": {},
     "output_type": "execute_result"
    }
   ],
   "source": [
    "a.shape"
   ]
  },
  {
   "cell_type": "code",
   "execution_count": 11,
   "metadata": {},
   "outputs": [
    {
     "data": {
      "text/plain": [
       "TensorShape([Dimension(2), Dimension(1)])"
      ]
     },
     "execution_count": 11,
     "metadata": {},
     "output_type": "execute_result"
    }
   ],
   "source": [
    "b.shape"
   ]
  },
  {
   "cell_type": "markdown",
   "metadata": {},
   "source": [
    "We can see from these two examples that a has two dimensions, the first of size 2 and the second of size 2. In other words, it has two rows, each with three scalars in it.\n",
    "\n",
    "Our b constant also has two dimensions, two rows with one scalar in each. This is not the same as a list, nor is it the same as a matrix if one row of two scalars."
   ]
  },
  {
   "cell_type": "markdown",
   "metadata": {},
   "source": [
    "# TensorFlow Randomness"
   ]
  },
  {
   "cell_type": "markdown",
   "metadata": {},
   "source": [
    "Machine learning models are complex collections of many variables, but they must be trained to find good values. This also means that these “weights” have to be set to initial values. One option for this is to start with all the weights as zeros, and go from there. However, this causes issues algorithmically - basically, the gradients of errors have trouble fixing errors. Instead, we often set these weights to random values. After that point, the model learns and adjusts.\n",
    "\n",
    "TensorFlow has a number of built-in methods for generating random numbers. This includes distributions we are all familiar with, like “uniform”, and others that you have probably heard of, like “normal” distributions. Uniform distributions are like those you get when you roll a dice - there is a set of values, and they are all equally likely. Normal distributions are the standard taught in statistics classes, where the data has a mean that is more likely, and a “bell-shaped” curve around it. Others are included as well, as we will see."
   ]
  },
  {
   "cell_type": "markdown",
   "metadata": {},
   "source": [
    "we are going to create a basic helper function that simply runs a single TensorFlow variable. This little function can be quite useful! It creates a session, initialises variables and runs it for us. It’s limited to a single variable though, so may not be useful for larger programs."
   ]
  },
  {
   "cell_type": "code",
   "execution_count": 3,
   "metadata": {},
   "outputs": [],
   "source": [
    "import tensorflow as tf\n",
    "\n",
    "def run_variable(variable):\n",
    "    tf.global_variables_initializer()\n",
    "    with tf.Session() as sess:\n",
    "        return sess.run(variable)"
   ]
  },
  {
   "cell_type": "markdown",
   "metadata": {},
   "source": [
    "Let’s start with a basic distribution, the uniform distribution."
   ]
  },
  {
   "cell_type": "code",
   "execution_count": 4,
   "metadata": {},
   "outputs": [],
   "source": [
    "my_distribution = tf.random_uniform((6, 4), seed=42)\n",
    "uniform = run_variable(my_distribution)"
   ]
  },
  {
   "cell_type": "markdown",
   "metadata": {},
   "source": [
    "This gives us a 6 by 4 tensor To visualise this, we can use a histogram:"
   ]
  },
  {
   "cell_type": "code",
   "execution_count": 6,
   "metadata": {},
   "outputs": [
    {
     "data": {
      "text/plain": [
       "(array([2., 2., 2., 3., 2., 1., 4., 2., 4., 2.]),\n",
       " array([0.00296271, 0.09988304, 0.19680338, 0.29372371, 0.39064405,\n",
       "        0.48756438, 0.58448472, 0.68140506, 0.77832539, 0.87524573,\n",
       "        0.97216606]),\n",
       " <a list of 10 Patch objects>)"
      ]
     },
     "execution_count": 6,
     "metadata": {},
     "output_type": "execute_result"
    },
    {
     "data": {
      "image/png": "[encoded data removed]",
      "text/plain": [
       "<matplotlib.figure.Figure at 0x22e893a21d0>"
      ]
     },
     "metadata": {},
     "output_type": "display_data"
    }
   ],
   "source": [
    "from matplotlib import pyplot as plt\n",
    "\n",
    "plt.hist(uniform.flatten())\n"
   ]
  },
  {
   "cell_type": "markdown",
   "metadata": {},
   "source": [
    "This histogram shows that the possible values are between 0 and 1. Every value should be equally likely, but it doesn’t really look that way. The reason for this is that we have only chosen a small number of values. If we increase the size of the array, it becomes much more uniform."
   ]
  },
  {
   "cell_type": "code",
   "execution_count": 7,
   "metadata": {},
   "outputs": [
    {
     "data": {
      "text/plain": [
       "(array([24089., 23822., 23975., 23939., 23937., 24133., 23951., 24179.,\n",
       "        24212., 23763.]),\n",
       " array([2.02655792e-06, 1.00001431e-01, 2.00000834e-01, 3.00000238e-01,\n",
       "        3.99999642e-01, 4.99999046e-01, 5.99998450e-01, 6.99997854e-01,\n",
       "        7.99997258e-01, 8.99996662e-01, 9.99996066e-01]),\n",
       " <a list of 10 Patch objects>)"
      ]
     },
     "execution_count": 7,
     "metadata": {},
     "output_type": "execute_result"
    },
    {
     "data": {
      "image/png": "[encoded data removed]",
      "text/plain": [
       "<matplotlib.figure.Figure at 0x22e8939cda0>"
      ]
     },
     "metadata": {},
     "output_type": "display_data"
    }
   ],
   "source": [
    "large_normal = tf.random_uniform((600, 400), seed=42)\n",
    "large_uniform = run_variable(large_normal)\n",
    "\n",
    "plt.hist(large_uniform.flatten())"
   ]
  },
  {
   "cell_type": "markdown",
   "metadata": {},
   "source": [
    "That’s more uniform!\n",
    "\n",
    "A uniform distribution can be quite useful for initialising weights in machine learning models, if you don’t have any other information to go by. It is also a “bounded” distribution, whereby it has a set minimum and maximum value, and the random values cannot fall outside that range. To change the range, for instance to 0 and 10, you multiply by the range and add the minimum. There is an exercise on this at the end of the lesson.\n",
    "\n",
    "Another commonly used distribution is the normal distribution, implemented in TensorFlow as the random_normal function:"
   ]
  },
  {
   "cell_type": "code",
   "execution_count": 8,
   "metadata": {},
   "outputs": [
    {
     "data": {
      "text/plain": [
       "(array([ 16.,  75., 280., 569., 661., 458., 250.,  70.,  17.,   4.]),\n",
       " array([-3.10911989, -2.40799129, -1.70686269, -1.00573409, -0.30460548,\n",
       "         0.39652312,  1.09765172,  1.79878032,  2.49990892,  3.20103753,\n",
       "         3.90216613]),\n",
       " <a list of 10 Patch objects>)"
      ]
     },
     "execution_count": 8,
     "metadata": {},
     "output_type": "execute_result"
    },
    {
     "data": {
      "image/png": "[encoded data removed]",
      "text/plain": [
       "<matplotlib.figure.Figure at 0x22e896894e0>"
      ]
     },
     "metadata": {},
     "output_type": "display_data"
    }
   ],
   "source": [
    "distribution = tf.random_normal((600, 4), seed=42)\n",
    "normal = run_variable(distribution)\n",
    "plt.hist(normal.flatten())\n"
   ]
  },
  {
   "cell_type": "markdown",
   "metadata": {},
   "source": [
    "This distribution, by default, has a mean of around 0 and a standard deviation of 1. The values are not bounded, but become highly unlikely the further from the mean you stray, with the standard deviation setting the rate of decrease in likelihood. In practice, around 60% of values fall within a “radius” of one standard deviation from the mean in each direction, and 99% fall within 4 standard deviations.\n",
    "\n",
    "The mean and standard deviation are parameters to the random_normal function. For example, heights can be approximately modeled as a normal distribution with a mean of around 170cm and a standard deviation of around 15cm."
   ]
  },
  {
   "cell_type": "code",
   "execution_count": 9,
   "metadata": {},
   "outputs": [
    {
     "data": {
      "text/plain": [
       "(array([   7.,   90.,  508., 1649., 2866., 2755., 1540.,  483.,   92.,\n",
       "          10.]), array([112.63173676, 124.2218132 , 135.81188965, 147.40196609,\n",
       "        158.99204254, 170.58211899, 182.17219543, 193.76227188,\n",
       "        205.35234833, 216.94242477, 228.53250122]), <a list of 10 Patch objects>)"
      ]
     },
     "execution_count": 9,
     "metadata": {},
     "output_type": "execute_result"
    },
    {
     "data": {
      "image/png": "[encoded data removed]",
      "text/plain": [
       "<matplotlib.figure.Figure at 0x22e89968898>"
      ]
     },
     "metadata": {},
     "output_type": "display_data"
    }
   ],
   "source": [
    "distribution = tf.random_normal((10000,), seed=42, mean=170, stddev=15)\n",
    "normal = run_variable(distribution)\n",
    "plt.hist(normal.flatten())"
   ]
  },
  {
   "cell_type": "markdown",
   "metadata": {},
   "source": [
    "Up to now, our histograms have been generated with matplotlib. We can use TensorFlow to create these as well! The histogram_fixed_width function takes a list of values (like our random values), the range, and the number of bins to compute. It then counts how many values are within the range of each bin, and returns the result as an array."
   ]
  },
  {
   "cell_type": "code",
   "execution_count": 10,
   "metadata": {},
   "outputs": [
    {
     "data": {
      "text/plain": [
       "<Container object of 20 artists>"
      ]
     },
     "execution_count": 10,
     "metadata": {},
     "output_type": "execute_result"
    },
    {
     "data": {
      "image/png": "[encoded data removed]",
      "text/plain": [
       "<matplotlib.figure.Figure at 0x22e894041d0>"
      ]
     },
     "metadata": {},
     "output_type": "display_data"
    }
   ],
   "source": [
    "import numpy as np\n",
    "bins = tf.histogram_fixed_width(normal, (normal.min(), normal.max()), nbins=20)\n",
    "histogram_bins = run_variable(bins)\n",
    "x_values = np.linspace(normal.min(), normal.max(), len(histogram_bins))\n",
    "plt.bar(x_values, histogram_bins,)"
   ]
  },
  {
   "cell_type": "markdown",
   "metadata": {},
   "source": [
    "In the plt.bar call, we generate the bin values again manually, and then plot those as x values with our histogram_bins as the heights using a bar plot."
   ]
  },
  {
   "cell_type": "markdown",
   "metadata": {},
   "source": [
    "That’s correct, but doesn’t look right. The histogram values are there, but the widths are unusually narrow (our bins are represented by single values only). Let’s fix that:"
   ]
  },
  {
   "cell_type": "code",
   "execution_count": 11,
   "metadata": {},
   "outputs": [
    {
     "data": {
      "text/plain": [
       "<Container object of 20 artists>"
      ]
     },
     "execution_count": 11,
     "metadata": {},
     "output_type": "execute_result"
    },
    {
     "data": {
      "image/png": "[encoded data removed]",
      "text/plain": [
       "<matplotlib.figure.Figure at 0x22e8960ba20>"
      ]
     },
     "metadata": {},
     "output_type": "display_data"
    }
   ],
   "source": [
    "bar_width = (normal.max() - normal.min()) / len(histogram_bins)\n",
    "plt.bar(x_values, histogram_bins, width=bar_width)"
   ]
  },
  {
   "cell_type": "code",
   "execution_count": null,
   "metadata": {},
   "outputs": [],
   "source": []
  }
 ],
 "metadata": {
  "kernelspec": {
   "display_name": "Python 3",
   "language": "python",
   "name": "python3"
  },
  "language_info": {
   "codemirror_mode": {
    "name": "ipython",
    "version": 3
   },
   "file_extension": ".py",
   "mimetype": "text/x-python",
   "name": "python",
   "nbconvert_exporter": "python",
   "pygments_lexer": "ipython3",
   "version": "3.6.4"
  }
 },
 "nbformat": 4,
 "nbformat_minor": 2
}
